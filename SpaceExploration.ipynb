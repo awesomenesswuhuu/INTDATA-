{
 "cells": [
  {
   "cell_type": "code",
   "execution_count": 90,
   "id": "8d038637-1aa1-4736-b409-7d0d73e5a269",
   "metadata": {},
   "outputs": [],
   "source": [
    "import pandas as pd"
   ]
  },
  {
   "cell_type": "code",
   "execution_count": 91,
   "id": "6af0c524-70b0-4eb9-a5b8-a135f144ecd6",
   "metadata": {},
   "outputs": [],
   "source": [
    "space = pd.read_csv('SPACE.csv')"
   ]
  },
  {
   "cell_type": "markdown",
   "id": "10f923e0-f24f-4229-a47f-e7d6650b9d75",
   "metadata": {},
   "source": [
    "Hello! This is an attempt at me trying to clean my data, which was my first milestone. "
   ]
  },
  {
   "cell_type": "code",
   "execution_count": 92,
   "id": "58947f01-427b-4438-b532-99d77de2b08f",
   "metadata": {},
   "outputs": [
    {
     "data": {
      "text/html": [
       "<div>\n",
       "<style scoped>\n",
       "    .dataframe tbody tr th:only-of-type {\n",
       "        vertical-align: middle;\n",
       "    }\n",
       "\n",
       "    .dataframe tbody tr th {\n",
       "        vertical-align: top;\n",
       "    }\n",
       "\n",
       "    .dataframe thead th {\n",
       "        text-align: right;\n",
       "    }\n",
       "</style>\n",
       "<table border=\"1\" class=\"dataframe\">\n",
       "  <thead>\n",
       "    <tr style=\"text-align: right;\">\n",
       "      <th></th>\n",
       "      <th>name</th>\n",
       "      <th>distance</th>\n",
       "      <th>stellar_magnitude</th>\n",
       "      <th>planet_type</th>\n",
       "      <th>discovery_year</th>\n",
       "      <th>mass_multiplier</th>\n",
       "      <th>mass_wrt</th>\n",
       "      <th>radius_multiplier</th>\n",
       "      <th>radius_wrt</th>\n",
       "      <th>orbital_radius</th>\n",
       "      <th>orbital_period</th>\n",
       "      <th>eccentricity</th>\n",
       "      <th>detection_method</th>\n",
       "    </tr>\n",
       "  </thead>\n",
       "  <tbody>\n",
       "    <tr>\n",
       "      <th>0</th>\n",
       "      <td>11 Comae Berenices b</td>\n",
       "      <td>304.0</td>\n",
       "      <td>4.72307</td>\n",
       "      <td>Gas Giant</td>\n",
       "      <td>2007</td>\n",
       "      <td>19.40000</td>\n",
       "      <td>Jupiter</td>\n",
       "      <td>1.08</td>\n",
       "      <td>Jupiter</td>\n",
       "      <td>1.290000</td>\n",
       "      <td>0.892539</td>\n",
       "      <td>0.23</td>\n",
       "      <td>Radial Velocity</td>\n",
       "    </tr>\n",
       "    <tr>\n",
       "      <th>1</th>\n",
       "      <td>11 Ursae Minoris b</td>\n",
       "      <td>409.0</td>\n",
       "      <td>5.01300</td>\n",
       "      <td>Gas Giant</td>\n",
       "      <td>2009</td>\n",
       "      <td>14.74000</td>\n",
       "      <td>Jupiter</td>\n",
       "      <td>1.09</td>\n",
       "      <td>Jupiter</td>\n",
       "      <td>1.530000</td>\n",
       "      <td>1.400000</td>\n",
       "      <td>0.08</td>\n",
       "      <td>Radial Velocity</td>\n",
       "    </tr>\n",
       "    <tr>\n",
       "      <th>2</th>\n",
       "      <td>14 Andromedae b</td>\n",
       "      <td>246.0</td>\n",
       "      <td>5.23133</td>\n",
       "      <td>Gas Giant</td>\n",
       "      <td>2008</td>\n",
       "      <td>4.80000</td>\n",
       "      <td>Jupiter</td>\n",
       "      <td>1.15</td>\n",
       "      <td>Jupiter</td>\n",
       "      <td>0.830000</td>\n",
       "      <td>0.508693</td>\n",
       "      <td>0.00</td>\n",
       "      <td>Radial Velocity</td>\n",
       "    </tr>\n",
       "    <tr>\n",
       "      <th>3</th>\n",
       "      <td>14 Herculis b</td>\n",
       "      <td>58.0</td>\n",
       "      <td>6.61935</td>\n",
       "      <td>Gas Giant</td>\n",
       "      <td>2002</td>\n",
       "      <td>8.13881</td>\n",
       "      <td>Jupiter</td>\n",
       "      <td>1.12</td>\n",
       "      <td>Jupiter</td>\n",
       "      <td>2.773069</td>\n",
       "      <td>4.800000</td>\n",
       "      <td>0.37</td>\n",
       "      <td>Radial Velocity</td>\n",
       "    </tr>\n",
       "    <tr>\n",
       "      <th>4</th>\n",
       "      <td>16 Cygni B b</td>\n",
       "      <td>69.0</td>\n",
       "      <td>6.21500</td>\n",
       "      <td>Gas Giant</td>\n",
       "      <td>1996</td>\n",
       "      <td>1.78000</td>\n",
       "      <td>Jupiter</td>\n",
       "      <td>1.20</td>\n",
       "      <td>Jupiter</td>\n",
       "      <td>1.660000</td>\n",
       "      <td>2.200000</td>\n",
       "      <td>0.68</td>\n",
       "      <td>Radial Velocity</td>\n",
       "    </tr>\n",
       "  </tbody>\n",
       "</table>\n",
       "</div>"
      ],
      "text/plain": [
       "                   name  distance  stellar_magnitude planet_type  \\\n",
       "0  11 Comae Berenices b     304.0            4.72307   Gas Giant   \n",
       "1    11 Ursae Minoris b     409.0            5.01300   Gas Giant   \n",
       "2       14 Andromedae b     246.0            5.23133   Gas Giant   \n",
       "3         14 Herculis b      58.0            6.61935   Gas Giant   \n",
       "4          16 Cygni B b      69.0            6.21500   Gas Giant   \n",
       "\n",
       "   discovery_year  mass_multiplier mass_wrt  radius_multiplier radius_wrt  \\\n",
       "0            2007         19.40000  Jupiter               1.08    Jupiter   \n",
       "1            2009         14.74000  Jupiter               1.09    Jupiter   \n",
       "2            2008          4.80000  Jupiter               1.15    Jupiter   \n",
       "3            2002          8.13881  Jupiter               1.12    Jupiter   \n",
       "4            1996          1.78000  Jupiter               1.20    Jupiter   \n",
       "\n",
       "   orbital_radius  orbital_period  eccentricity detection_method  \n",
       "0        1.290000        0.892539          0.23  Radial Velocity  \n",
       "1        1.530000        1.400000          0.08  Radial Velocity  \n",
       "2        0.830000        0.508693          0.00  Radial Velocity  \n",
       "3        2.773069        4.800000          0.37  Radial Velocity  \n",
       "4        1.660000        2.200000          0.68  Radial Velocity  "
      ]
     },
     "execution_count": 92,
     "metadata": {},
     "output_type": "execute_result"
    }
   ],
   "source": [
    "space.head()"
   ]
  },
  {
   "cell_type": "markdown",
   "id": "f3382a9a-7eeb-47a4-8b45-4ad598a63f74",
   "metadata": {},
   "source": [
    "counting the total of empty cells"
   ]
  },
  {
   "cell_type": "code",
   "execution_count": 93,
   "id": "2ea64e13-44f3-4da7-b207-d0326e006a93",
   "metadata": {},
   "outputs": [
    {
     "name": "stdout",
     "output_type": "stream",
     "text": [
      "Number of empty cells: 547\n"
     ]
    }
   ],
   "source": [
    "empty_cells_count = space.isnull().sum().sum()\n",
    "print(f'Number of empty cells: {empty_cells_count}')"
   ]
  },
  {
   "cell_type": "code",
   "execution_count": 94,
   "id": "b8578343-6581-43a3-8660-004e07b284a8",
   "metadata": {},
   "outputs": [
    {
     "data": {
      "text/plain": [
       "name                   0\n",
       "distance              17\n",
       "stellar_magnitude    161\n",
       "planet_type            0\n",
       "discovery_year         0\n",
       "mass_multiplier       23\n",
       "mass_wrt              23\n",
       "radius_multiplier     17\n",
       "radius_wrt            17\n",
       "orbital_radius       289\n",
       "orbital_period         0\n",
       "eccentricity           0\n",
       "detection_method       0\n",
       "dtype: int64"
      ]
     },
     "execution_count": 94,
     "metadata": {},
     "output_type": "execute_result"
    }
   ],
   "source": [
    "space.isnull().sum()"
   ]
  },
  {
   "cell_type": "code",
   "execution_count": 95,
   "id": "450194c2-f06b-4aba-89cf-56cda6747e31",
   "metadata": {},
   "outputs": [
    {
     "data": {
      "text/plain": [
       "(5250, 13)"
      ]
     },
     "execution_count": 95,
     "metadata": {},
     "output_type": "execute_result"
    }
   ],
   "source": [
    "space.shape"
   ]
  },
  {
   "cell_type": "code",
   "execution_count": 99,
   "id": "4f3536fa-f612-48b3-a878-2a54ec66592d",
   "metadata": {},
   "outputs": [
    {
     "name": "stdout",
     "output_type": "stream",
     "text": [
      "Index(['name', 'distance', 'stellar_magnitude', 'planet_type',\n",
      "       'discovery_year', 'mass_multiplier', 'mass_wrt', 'radius_multiplier',\n",
      "       'radius_wrt', 'orbital_radius', 'orbital_period', 'eccentricity',\n",
      "       'detection_method'],\n",
      "      dtype='object')\n"
     ]
    }
   ],
   "source": [
    "print(space.columns)\n"
   ]
  },
  {
   "cell_type": "markdown",
   "id": "b98d66e6-edb7-4b66-b7a4-4c90eee77e25",
   "metadata": {},
   "source": [
    "I took a look at all the possible columns and decided to discard the ones that weren't super useful"
   ]
  },
  {
   "cell_type": "code",
   "execution_count": 100,
   "id": "02a3e172-c7cf-409f-abca-11177c9d27bc",
   "metadata": {},
   "outputs": [
    {
     "name": "stdout",
     "output_type": "stream",
     "text": [
      "                   name  distance  mass_multiplier mass_wrt  \\\n",
      "0  11 Comae Berenices b     304.0         19.40000  Jupiter   \n",
      "1    11 Ursae Minoris b     409.0         14.74000  Jupiter   \n",
      "2       14 Andromedae b     246.0          4.80000  Jupiter   \n",
      "3         14 Herculis b      58.0          8.13881  Jupiter   \n",
      "4          16 Cygni B b      69.0          1.78000  Jupiter   \n",
      "\n",
      "   radius_multiplier radius_wrt  orbital_radius  orbital_period  eccentricity  \\\n",
      "0               1.08    Jupiter        1.290000        0.892539          0.23   \n",
      "1               1.09    Jupiter        1.530000        1.400000          0.08   \n",
      "2               1.15    Jupiter        0.830000        0.508693          0.00   \n",
      "3               1.12    Jupiter        2.773069        4.800000          0.37   \n",
      "4               1.20    Jupiter        1.660000        2.200000          0.68   \n",
      "\n",
      "   discovery_year detection_method  \n",
      "0            2007  Radial Velocity  \n",
      "1            2009  Radial Velocity  \n",
      "2            2008  Radial Velocity  \n",
      "3            2002  Radial Velocity  \n",
      "4            1996  Radial Velocity  \n"
     ]
    }
   ],
   "source": [
    "columns_to_keep = [\n",
    "    'name', 'distance', 'mass_multiplier', 'mass_wrt', 'radius_multiplier', \n",
    "    'radius_wrt', 'orbital_radius', 'orbital_period', 'eccentricity', \n",
    "    'discovery_year', 'detection_method'\n",
    "]\n",
    "\n",
    "space_filtered = space[columns_to_keep]\n",
    "print(space_filtered.head())"
   ]
  },
  {
   "cell_type": "code",
   "execution_count": 101,
   "id": "c7bfd6b8-c588-40d1-ac06-5b07ccaea0a5",
   "metadata": {},
   "outputs": [
    {
     "data": {
      "text/plain": [
       "(5250, 11)"
      ]
     },
     "execution_count": 101,
     "metadata": {},
     "output_type": "execute_result"
    }
   ],
   "source": [
    "space_filtered.shape"
   ]
  },
  {
   "cell_type": "code",
   "execution_count": 102,
   "id": "39bbd652-53c9-4f17-940f-a4ab90c5cdee",
   "metadata": {},
   "outputs": [
    {
     "data": {
      "text/plain": [
       "name                   0\n",
       "distance              17\n",
       "mass_multiplier       23\n",
       "mass_wrt              23\n",
       "radius_multiplier     17\n",
       "radius_wrt            17\n",
       "orbital_radius       289\n",
       "orbital_period         0\n",
       "eccentricity           0\n",
       "discovery_year         0\n",
       "detection_method       0\n",
       "dtype: int64"
      ]
     },
     "execution_count": 102,
     "metadata": {},
     "output_type": "execute_result"
    }
   ],
   "source": [
    "space_filtered.isnull().sum()"
   ]
  },
  {
   "cell_type": "markdown",
   "id": "81598fc8-27ae-493b-91ee-81f6a179503e",
   "metadata": {},
   "source": [
    "removed even more columns and added back the ones I could make interesting graphs out of"
   ]
  },
  {
   "cell_type": "code",
   "execution_count": 103,
   "id": "d5f39b7c-5e78-4a8b-9867-bcf9cea1c65b",
   "metadata": {},
   "outputs": [
    {
     "name": "stdout",
     "output_type": "stream",
     "text": [
      "                   name  distance  mass_multiplier mass_wrt  \\\n",
      "0  11 Comae Berenices b     304.0         19.40000  Jupiter   \n",
      "1    11 Ursae Minoris b     409.0         14.74000  Jupiter   \n",
      "2       14 Andromedae b     246.0          4.80000  Jupiter   \n",
      "3         14 Herculis b      58.0          8.13881  Jupiter   \n",
      "4          16 Cygni B b      69.0          1.78000  Jupiter   \n",
      "\n",
      "   radius_multiplier planet_type radius_wrt  orbital_period  eccentricity  \\\n",
      "0               1.08   Gas Giant    Jupiter        0.892539          0.23   \n",
      "1               1.09   Gas Giant    Jupiter        1.400000          0.08   \n",
      "2               1.15   Gas Giant    Jupiter        0.508693          0.00   \n",
      "3               1.12   Gas Giant    Jupiter        4.800000          0.37   \n",
      "4               1.20   Gas Giant    Jupiter        2.200000          0.68   \n",
      "\n",
      "   discovery_year detection_method  \n",
      "0            2007  Radial Velocity  \n",
      "1            2009  Radial Velocity  \n",
      "2            2008  Radial Velocity  \n",
      "3            2002  Radial Velocity  \n",
      "4            1996  Radial Velocity  \n"
     ]
    }
   ],
   "source": [
    "columns_to_keep = [\n",
    "    'name', 'distance', 'mass_multiplier', 'mass_wrt', 'radius_multiplier', 'planet_type', \n",
    "    'radius_wrt', 'orbital_period', 'eccentricity', \n",
    "    'discovery_year', 'detection_method'\n",
    "]\n",
    "\n",
    "space_filtered = space[columns_to_keep]\n",
    "print(space_filtered.head())"
   ]
  },
  {
   "cell_type": "code",
   "execution_count": 104,
   "id": "fffcecc6-3b13-403b-bb2b-6b1640e5c078",
   "metadata": {},
   "outputs": [
    {
     "data": {
      "text/plain": [
       "name                  0\n",
       "distance             17\n",
       "mass_multiplier      23\n",
       "mass_wrt             23\n",
       "radius_multiplier    17\n",
       "planet_type           0\n",
       "radius_wrt           17\n",
       "orbital_period        0\n",
       "eccentricity          0\n",
       "discovery_year        0\n",
       "detection_method      0\n",
       "dtype: int64"
      ]
     },
     "execution_count": 104,
     "metadata": {},
     "output_type": "execute_result"
    }
   ],
   "source": [
    "space_filtered.isnull().sum()"
   ]
  },
  {
   "cell_type": "markdown",
   "id": "69583691-d5a2-4ae2-9082-253d1aceb72d",
   "metadata": {},
   "source": [
    "turning the nas into medians"
   ]
  },
  {
   "cell_type": "code",
   "execution_count": 105,
   "id": "7f5804f9-2189-4cc7-bae6-d4557cc3c033",
   "metadata": {},
   "outputs": [
    {
     "data": {
      "text/html": [
       "<div>\n",
       "<style scoped>\n",
       "    .dataframe tbody tr th:only-of-type {\n",
       "        vertical-align: middle;\n",
       "    }\n",
       "\n",
       "    .dataframe tbody tr th {\n",
       "        vertical-align: top;\n",
       "    }\n",
       "\n",
       "    .dataframe thead th {\n",
       "        text-align: right;\n",
       "    }\n",
       "</style>\n",
       "<table border=\"1\" class=\"dataframe\">\n",
       "  <thead>\n",
       "    <tr style=\"text-align: right;\">\n",
       "      <th></th>\n",
       "      <th>name</th>\n",
       "      <th>distance</th>\n",
       "      <th>mass_multiplier</th>\n",
       "      <th>mass_wrt</th>\n",
       "      <th>radius_multiplier</th>\n",
       "      <th>planet_type</th>\n",
       "      <th>radius_wrt</th>\n",
       "      <th>orbital_period</th>\n",
       "      <th>eccentricity</th>\n",
       "      <th>discovery_year</th>\n",
       "      <th>detection_method</th>\n",
       "    </tr>\n",
       "  </thead>\n",
       "  <tbody>\n",
       "    <tr>\n",
       "      <th>0</th>\n",
       "      <td>11 Comae Berenices b</td>\n",
       "      <td>304.0</td>\n",
       "      <td>19.40000</td>\n",
       "      <td>Jupiter</td>\n",
       "      <td>1.08</td>\n",
       "      <td>Gas Giant</td>\n",
       "      <td>Jupiter</td>\n",
       "      <td>0.892539</td>\n",
       "      <td>0.23</td>\n",
       "      <td>2007</td>\n",
       "      <td>Radial Velocity</td>\n",
       "    </tr>\n",
       "    <tr>\n",
       "      <th>1</th>\n",
       "      <td>11 Ursae Minoris b</td>\n",
       "      <td>409.0</td>\n",
       "      <td>14.74000</td>\n",
       "      <td>Jupiter</td>\n",
       "      <td>1.09</td>\n",
       "      <td>Gas Giant</td>\n",
       "      <td>Jupiter</td>\n",
       "      <td>1.400000</td>\n",
       "      <td>0.08</td>\n",
       "      <td>2009</td>\n",
       "      <td>Radial Velocity</td>\n",
       "    </tr>\n",
       "    <tr>\n",
       "      <th>2</th>\n",
       "      <td>14 Andromedae b</td>\n",
       "      <td>246.0</td>\n",
       "      <td>4.80000</td>\n",
       "      <td>Jupiter</td>\n",
       "      <td>1.15</td>\n",
       "      <td>Gas Giant</td>\n",
       "      <td>Jupiter</td>\n",
       "      <td>0.508693</td>\n",
       "      <td>0.00</td>\n",
       "      <td>2008</td>\n",
       "      <td>Radial Velocity</td>\n",
       "    </tr>\n",
       "    <tr>\n",
       "      <th>3</th>\n",
       "      <td>14 Herculis b</td>\n",
       "      <td>58.0</td>\n",
       "      <td>8.13881</td>\n",
       "      <td>Jupiter</td>\n",
       "      <td>1.12</td>\n",
       "      <td>Gas Giant</td>\n",
       "      <td>Jupiter</td>\n",
       "      <td>4.800000</td>\n",
       "      <td>0.37</td>\n",
       "      <td>2002</td>\n",
       "      <td>Radial Velocity</td>\n",
       "    </tr>\n",
       "    <tr>\n",
       "      <th>4</th>\n",
       "      <td>16 Cygni B b</td>\n",
       "      <td>69.0</td>\n",
       "      <td>1.78000</td>\n",
       "      <td>Jupiter</td>\n",
       "      <td>1.20</td>\n",
       "      <td>Gas Giant</td>\n",
       "      <td>Jupiter</td>\n",
       "      <td>2.200000</td>\n",
       "      <td>0.68</td>\n",
       "      <td>1996</td>\n",
       "      <td>Radial Velocity</td>\n",
       "    </tr>\n",
       "  </tbody>\n",
       "</table>\n",
       "</div>"
      ],
      "text/plain": [
       "                   name  distance  mass_multiplier mass_wrt  \\\n",
       "0  11 Comae Berenices b     304.0         19.40000  Jupiter   \n",
       "1    11 Ursae Minoris b     409.0         14.74000  Jupiter   \n",
       "2       14 Andromedae b     246.0          4.80000  Jupiter   \n",
       "3         14 Herculis b      58.0          8.13881  Jupiter   \n",
       "4          16 Cygni B b      69.0          1.78000  Jupiter   \n",
       "\n",
       "   radius_multiplier planet_type radius_wrt  orbital_period  eccentricity  \\\n",
       "0               1.08   Gas Giant    Jupiter        0.892539          0.23   \n",
       "1               1.09   Gas Giant    Jupiter        1.400000          0.08   \n",
       "2               1.15   Gas Giant    Jupiter        0.508693          0.00   \n",
       "3               1.12   Gas Giant    Jupiter        4.800000          0.37   \n",
       "4               1.20   Gas Giant    Jupiter        2.200000          0.68   \n",
       "\n",
       "   discovery_year detection_method  \n",
       "0            2007  Radial Velocity  \n",
       "1            2009  Radial Velocity  \n",
       "2            2008  Radial Velocity  \n",
       "3            2002  Radial Velocity  \n",
       "4            1996  Radial Velocity  "
      ]
     },
     "execution_count": 105,
     "metadata": {},
     "output_type": "execute_result"
    }
   ],
   "source": [
    "space_filtered = space_filtered.fillna(space_filtered.median(numeric_only=True))\n",
    "space_filtered.head()"
   ]
  },
  {
   "cell_type": "code",
   "execution_count": 106,
   "id": "9e97869b-ced4-493b-aff5-af3fa25ac05a",
   "metadata": {},
   "outputs": [
    {
     "data": {
      "text/plain": [
       "name                  0\n",
       "distance              0\n",
       "mass_multiplier       0\n",
       "mass_wrt             23\n",
       "radius_multiplier     0\n",
       "planet_type           0\n",
       "radius_wrt           17\n",
       "orbital_period        0\n",
       "eccentricity          0\n",
       "discovery_year        0\n",
       "detection_method      0\n",
       "dtype: int64"
      ]
     },
     "execution_count": 106,
     "metadata": {},
     "output_type": "execute_result"
    }
   ],
   "source": [
    "space_filtered.isnull().sum()"
   ]
  },
  {
   "cell_type": "markdown",
   "id": "9ed825ba-e48f-47c3-886f-361d9316cb43",
   "metadata": {},
   "source": [
    "for some reason I couldn't get rid of the nulls in the two values above, and I fif the following the fix that"
   ]
  },
  {
   "cell_type": "code",
   "execution_count": 108,
   "id": "a5b5f357-d60d-48c9-a8d0-845eb89e7cae",
   "metadata": {},
   "outputs": [
    {
     "data": {
      "text/plain": [
       "name                 0\n",
       "distance             0\n",
       "mass_multiplier      0\n",
       "mass_wrt             0\n",
       "radius_multiplier    0\n",
       "planet_type          0\n",
       "radius_wrt           0\n",
       "orbital_period       0\n",
       "eccentricity         0\n",
       "discovery_year       0\n",
       "detection_method     0\n",
       "dtype: int64"
      ]
     },
     "execution_count": 108,
     "metadata": {},
     "output_type": "execute_result"
    }
   ],
   "source": [
    "space_filtered = space_filtered.dropna(subset=['mass_wrt', 'radius_wrt'])\n",
    "space_filtered.isnull().sum()"
   ]
  },
  {
   "cell_type": "code",
   "execution_count": 110,
   "id": "f1b3bc61-e8ef-470d-a0dc-ce190005b884",
   "metadata": {},
   "outputs": [
    {
     "name": "stdout",
     "output_type": "stream",
     "text": [
      "<class 'pandas.core.frame.DataFrame'>\n",
      "Index: 5215 entries, 0 to 5249\n",
      "Data columns (total 11 columns):\n",
      " #   Column             Non-Null Count  Dtype  \n",
      "---  ------             --------------  -----  \n",
      " 0   name               5215 non-null   object \n",
      " 1   distance           5215 non-null   float64\n",
      " 2   mass_multiplier    5215 non-null   float64\n",
      " 3   mass_wrt           5215 non-null   object \n",
      " 4   radius_multiplier  5215 non-null   float64\n",
      " 5   planet_type        5215 non-null   object \n",
      " 6   radius_wrt         5215 non-null   object \n",
      " 7   orbital_period     5215 non-null   float64\n",
      " 8   eccentricity       5215 non-null   float64\n",
      " 9   discovery_year     5215 non-null   int64  \n",
      " 10  detection_method   5215 non-null   object \n",
      "dtypes: float64(5), int64(1), object(5)\n",
      "memory usage: 488.9+ KB\n",
      "None\n"
     ]
    }
   ],
   "source": [
    "space_filtered = space_filtered.drop_duplicates()\n",
    "print(space_filtered.info())\n"
   ]
  },
  {
   "cell_type": "code",
   "execution_count": null,
   "id": "50450c28-570c-48a4-ae50-b1592752f6a4",
   "metadata": {},
   "outputs": [],
   "source": []
  }
 ],
 "metadata": {
  "kernelspec": {
   "display_name": "Python 3 (ipykernel)",
   "language": "python",
   "name": "python3"
  },
  "language_info": {
   "codemirror_mode": {
    "name": "ipython",
    "version": 3
   },
   "file_extension": ".py",
   "mimetype": "text/x-python",
   "name": "python",
   "nbconvert_exporter": "python",
   "pygments_lexer": "ipython3",
   "version": "3.12.4"
  }
 },
 "nbformat": 4,
 "nbformat_minor": 5
}
